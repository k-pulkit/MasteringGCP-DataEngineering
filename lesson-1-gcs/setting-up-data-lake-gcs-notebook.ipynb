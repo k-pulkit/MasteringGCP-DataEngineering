{
 "cells": [
  {
   "attachments": {},
   "cell_type": "markdown",
   "metadata": {},
   "source": [
    "## Google Cloud Storage using Python and Pandas"
   ]
  },
  {
   "attachments": {},
   "cell_type": "markdown",
   "metadata": {},
   "source": [
    "#### Using gsutil inside the notebook using !"
   ]
  },
  {
   "cell_type": "code",
   "execution_count": 5,
   "metadata": {},
   "outputs": [
    {
     "name": "stdout",
     "output_type": "stream",
     "text": [
      "gs://gcs-data-lake-1/data/\n"
     ]
    }
   ],
   "source": [
    "!gsutil list gs://gcs-data-lake-1"
   ]
  },
  {
   "cell_type": "code",
   "execution_count": 6,
   "metadata": {},
   "outputs": [
    {
     "name": "stdout",
     "output_type": "stream",
     "text": [
      "gs://gcs-data-lake-1/data/:\n",
      "\n",
      "gs://gcs-data-lake-1/data/retail_db/:\n",
      "gs://gcs-data-lake-1/data/retail_db/create_db_tables_pg.sql\n",
      "gs://gcs-data-lake-1/data/retail_db/load_db_tables_pg.sql\n",
      "gs://gcs-data-lake-1/data/retail_db/schemas.json\n",
      "\n",
      "gs://gcs-data-lake-1/data/retail_db/categories/:\n",
      "gs://gcs-data-lake-1/data/retail_db/categories/part-00000\n",
      "\n",
      "gs://gcs-data-lake-1/data/retail_db/customers/:\n",
      "gs://gcs-data-lake-1/data/retail_db/customers/part-00000\n",
      "\n",
      "gs://gcs-data-lake-1/data/retail_db/departments/:\n",
      "gs://gcs-data-lake-1/data/retail_db/departments/part-00000\n",
      "\n",
      "gs://gcs-data-lake-1/data/retail_db/order_items/:\n",
      "gs://gcs-data-lake-1/data/retail_db/order_items/part-00000\n",
      "\n",
      "gs://gcs-data-lake-1/data/retail_db/orders/:\n",
      "gs://gcs-data-lake-1/data/retail_db/orders/part-00000\n",
      "\n",
      "gs://gcs-data-lake-1/data/retail_db/products/:\n",
      "gs://gcs-data-lake-1/data/retail_db/products/part-00000\n"
     ]
    }
   ],
   "source": [
    "!gsutil ls -R gs://gcs-data-lake-1"
   ]
  },
  {
   "attachments": {},
   "cell_type": "markdown",
   "metadata": {},
   "source": [
    "# Using Python to interact with Google Storage"
   ]
  },
  {
   "cell_type": "code",
   "execution_count": null,
   "metadata": {},
   "outputs": [],
   "source": [
    "# By using the below command, it sets the application defaults for the GCS Python library to connect to google cloud\n",
    "\n",
    "!gcloud auth application-default login"
   ]
  },
  {
   "attachments": {},
   "cell_type": "markdown",
   "metadata": {},
   "source": [
    "#### Create a client to Google Storage"
   ]
  },
  {
   "cell_type": "code",
   "execution_count": 30,
   "metadata": {},
   "outputs": [
    {
     "name": "stdout",
     "output_type": "stream",
     "text": [
      "\n"
     ]
    },
    {
     "data": {
      "text/plain": [
       "<google.cloud.storage.client.Client at 0x7f2373bdfbb0>"
      ]
     },
     "execution_count": 30,
     "metadata": {},
     "output_type": "execute_result"
    }
   ],
   "source": [
    "from google.cloud import storage\n",
    "import json\n",
    "import pandas as pd\n",
    "\n",
    "\n",
    "print(\"\")\n",
    "\n",
    "gsclient = storage.Client()\n",
    "gsclient"
   ]
  },
  {
   "attachments": {},
   "cell_type": "markdown",
   "metadata": {},
   "source": [
    "#### List all the buckets in the account"
   ]
  },
  {
   "cell_type": "code",
   "execution_count": 36,
   "metadata": {},
   "outputs": [
    {
     "name": "stdout",
     "output_type": "stream",
     "text": [
      "Buckets in the account are [<Bucket: gcs-data-lake-1>]\n"
     ]
    },
    {
     "data": {
      "text/plain": [
       "'gcs-data-lake-1'"
      ]
     },
     "execution_count": 36,
     "metadata": {},
     "output_type": "execute_result"
    }
   ],
   "source": [
    "print(f\"Buckets in the account are {list(gsclient.list_buckets())}\")\n",
    "\n",
    "bucket0 = list(gsclient.list_buckets())[0]\n",
    "bucket0.name"
   ]
  },
  {
   "attachments": {},
   "cell_type": "markdown",
   "metadata": {},
   "source": [
    "#### List all blobs in current bucket and show contents of one of the blobs"
   ]
  },
  {
   "cell_type": "code",
   "execution_count": 33,
   "metadata": {},
   "outputs": [
    {
     "name": "stdout",
     "output_type": "stream",
     "text": [
      "<Blob: gcs-data-lake-1, data/retail_db/categories/part-00000, 1676193065875141>\n",
      "<Blob: gcs-data-lake-1, data/retail_db/create_db_tables_pg.sql, 1676193065836272>\n",
      "<Blob: gcs-data-lake-1, data/retail_db/customers/part-00000, 1676193065868069>\n",
      "<Blob: gcs-data-lake-1, data/retail_db/departments/part-00000, 1676193065828750>\n",
      "<Blob: gcs-data-lake-1, data/retail_db/load_db_tables_pg.sql, 1676193065865869>\n",
      "<Blob: gcs-data-lake-1, data/retail_db/order_items/part-00000, 1676193065874727>\n",
      "<Blob: gcs-data-lake-1, data/retail_db/orders/part-00000, 1676193065904849>\n",
      "<Blob: gcs-data-lake-1, data/retail_db/products/part-00000, 1676193065917054>\n",
      "<Blob: gcs-data-lake-1, data/retail_db/schemas.json, 1676193065864417>\n"
     ]
    }
   ],
   "source": [
    "for i in bucket0.list_blobs():\n",
    "    print(i)"
   ]
  },
  {
   "cell_type": "code",
   "execution_count": 34,
   "metadata": {},
   "outputs": [
    {
     "data": {
      "text/plain": [
       "{'departments': [{'column_name': 'department_id',\n",
       "   'data_type': 'integer',\n",
       "   'column_position': 1},\n",
       "  {'column_name': 'department_name',\n",
       "   'data_type': 'string',\n",
       "   'column_position': 2}],\n",
       " 'categories': [{'column_name': 'category_id',\n",
       "   'data_type': 'integer',\n",
       "   'column_position': 1},\n",
       "  {'column_name': 'category_department_id',\n",
       "   'data_type': 'integer',\n",
       "   'column_position': 2},\n",
       "  {'column_name': 'category_name',\n",
       "   'data_type': 'string',\n",
       "   'column_position': 3}],\n",
       " 'orders': [{'column_name': 'order_id',\n",
       "   'data_type': 'integer',\n",
       "   'column_position': 1},\n",
       "  {'column_name': 'order_date', 'data_type': 'string', 'column_position': 2},\n",
       "  {'column_name': 'order_customer_id',\n",
       "   'data_type': 'timestamp',\n",
       "   'column_position': 3},\n",
       "  {'column_name': 'order_status',\n",
       "   'data_type': 'string',\n",
       "   'column_position': 4}],\n",
       " 'products': [{'column_name': 'product_id',\n",
       "   'data_type': 'integer',\n",
       "   'column_position': 1},\n",
       "  {'column_name': 'product_cateogry_id',\n",
       "   'data_type': 'integer',\n",
       "   'column_position': 2},\n",
       "  {'column_name': 'product_name', 'data_type': '', 'column_position': 3},\n",
       "  {'column_name': 'product_description',\n",
       "   'data_type': 'string',\n",
       "   'column_position': 4},\n",
       "  {'column_name': 'product_price', 'data_type': 'float', 'column_position': 5},\n",
       "  {'column_name': 'product_image',\n",
       "   'data_type': 'string',\n",
       "   'column_position': 6}],\n",
       " 'customers': [{'column_name': 'customer_id',\n",
       "   'data_type': 'integer',\n",
       "   'column_position': 1},\n",
       "  {'column_name': 'customer_fname',\n",
       "   'data_type': 'string',\n",
       "   'column_position': 2},\n",
       "  {'column_name': 'customer_lname',\n",
       "   'data_type': 'string',\n",
       "   'column_position': 3},\n",
       "  {'column_name': 'customer_email',\n",
       "   'data_type': 'string',\n",
       "   'column_position': 4},\n",
       "  {'column_name': 'customer_password',\n",
       "   'data_type': 'string',\n",
       "   'column_position': 5},\n",
       "  {'column_name': 'customer_street',\n",
       "   'data_type': 'string',\n",
       "   'column_position': 6},\n",
       "  {'column_name': 'customer_city',\n",
       "   'data_type': 'string',\n",
       "   'column_position': 7},\n",
       "  {'column_name': 'customer_state',\n",
       "   'data_type': 'string',\n",
       "   'column_position': 8},\n",
       "  {'column_name': 'customer_zipcode',\n",
       "   'data_type': 'integer',\n",
       "   'column_position': 9}],\n",
       " 'order_items': [{'column_name': 'order_item_id',\n",
       "   'data_type': 'integer',\n",
       "   'column_position': 1},\n",
       "  {'column_name': 'order_item_order_id',\n",
       "   'data_type': 'integer',\n",
       "   'column_position': 2},\n",
       "  {'column_name': 'order_item_product_id',\n",
       "   'data_type': 'integer',\n",
       "   'column_position': 3},\n",
       "  {'column_name': 'order_item_quantity',\n",
       "   'data_type': 'integer',\n",
       "   'column_position': 4},\n",
       "  {'column_name': 'order_item_subtotal',\n",
       "   'data_type': 'float',\n",
       "   'column_position': 5},\n",
       "  {'column_name': 'order_item_product_price',\n",
       "   'data_type': 'float',\n",
       "   'column_position': 6}]}"
      ]
     },
     "execution_count": 34,
     "metadata": {},
     "output_type": "execute_result"
    }
   ],
   "source": [
    "# Read the last object in memory, which is \"schemas.json\"\n",
    "\n",
    "json.loads(i.download_as_string())"
   ]
  },
  {
   "attachments": {},
   "cell_type": "markdown",
   "metadata": {},
   "source": [
    "#### Selecting a specific bucket, and working with it"
   ]
  },
  {
   "cell_type": "code",
   "execution_count": 65,
   "metadata": {},
   "outputs": [
    {
     "data": {
      "text/plain": [
       "['data/retail_db/categories/part-00000',\n",
       " 'data/retail_db/create_db_tables_pg.sql',\n",
       " 'data/retail_db/customers/part-00000',\n",
       " 'data/retail_db/departments/part-00000',\n",
       " 'data/retail_db/load_db_tables_pg.sql',\n",
       " 'data/retail_db/order_items/part-00000',\n",
       " 'data/retail_db/orders/part-00000',\n",
       " 'data/retail_db/products/part-00000',\n",
       " 'data/retail_db/schemas.json']"
      ]
     },
     "execution_count": 65,
     "metadata": {},
     "output_type": "execute_result"
    }
   ],
   "source": [
    "[i.name for i in gsclient.get_bucket(bucket_or_name=\"gcs-data-lake-1\").list_blobs()]"
   ]
  },
  {
   "attachments": {},
   "cell_type": "markdown",
   "metadata": {},
   "source": [
    "##### Creating new blobs of data"
   ]
  },
  {
   "cell_type": "code",
   "execution_count": 53,
   "metadata": {},
   "outputs": [],
   "source": [
    "# Creating a new blob, and deleting\n",
    "gsclient.get_bucket(bucket_or_name=\"gcs-data-lake-1\").blob(\"new_blob\").upload_from_string(\"This is a new blob\")\n",
    "gsclient.get_bucket(bucket_or_name=\"gcs-data-lake-1\").blob(\"new_blob\").exists()\n",
    "gsclient.get_bucket(bucket_or_name=\"gcs-data-lake-1\").blob(\"new_blob\").delete()"
   ]
  },
  {
   "attachments": {},
   "cell_type": "markdown",
   "metadata": {},
   "source": [
    "##### Selecting as blob, downloading data and displaying with Pandas Dataframe"
   ]
  },
  {
   "cell_type": "code",
   "execution_count": 95,
   "metadata": {},
   "outputs": [
    {
     "data": {
      "text/plain": [
       "<Blob: gcs-data-lake-1, data/retail_db/orders/part-00000, 1676193065904849>"
      ]
     },
     "execution_count": 95,
     "metadata": {},
     "output_type": "execute_result"
    }
   ],
   "source": [
    "blob_name =  \"data/retail_db/orders/part-00000\"\n",
    "blob = gsclient.get_bucket(\"gcs-data-lake-1\").get_blob(blob_name)\n",
    "blob"
   ]
  },
  {
   "cell_type": "code",
   "execution_count": 114,
   "metadata": {},
   "outputs": [
    {
     "data": {
      "text/html": [
       "<div>\n",
       "<style scoped>\n",
       "    .dataframe tbody tr th:only-of-type {\n",
       "        vertical-align: middle;\n",
       "    }\n",
       "\n",
       "    .dataframe tbody tr th {\n",
       "        vertical-align: top;\n",
       "    }\n",
       "\n",
       "    .dataframe thead th {\n",
       "        text-align: right;\n",
       "    }\n",
       "</style>\n",
       "<table border=\"1\" class=\"dataframe\">\n",
       "  <thead>\n",
       "    <tr style=\"text-align: right;\">\n",
       "      <th></th>\n",
       "      <th>0</th>\n",
       "      <th>1</th>\n",
       "      <th>2</th>\n",
       "      <th>3</th>\n",
       "    </tr>\n",
       "  </thead>\n",
       "  <tbody>\n",
       "    <tr>\n",
       "      <th>0</th>\n",
       "      <td>1</td>\n",
       "      <td>2013-07-25 00:00:00.0</td>\n",
       "      <td>11599</td>\n",
       "      <td>CLOSED</td>\n",
       "    </tr>\n",
       "    <tr>\n",
       "      <th>1</th>\n",
       "      <td>2</td>\n",
       "      <td>2013-07-25 00:00:00.0</td>\n",
       "      <td>256</td>\n",
       "      <td>PENDING_PAYMENT</td>\n",
       "    </tr>\n",
       "    <tr>\n",
       "      <th>2</th>\n",
       "      <td>3</td>\n",
       "      <td>2013-07-25 00:00:00.0</td>\n",
       "      <td>12111</td>\n",
       "      <td>COMPLETE</td>\n",
       "    </tr>\n",
       "  </tbody>\n",
       "</table>\n",
       "</div>"
      ],
      "text/plain": [
       "   0                      1      2                3\n",
       "0  1  2013-07-25 00:00:00.0  11599           CLOSED\n",
       "1  2  2013-07-25 00:00:00.0    256  PENDING_PAYMENT\n",
       "2  3  2013-07-25 00:00:00.0  12111         COMPLETE"
      ]
     },
     "execution_count": 114,
     "metadata": {},
     "output_type": "execute_result"
    }
   ],
   "source": [
    "from io import BytesIO\n",
    "io = BytesIO()\n",
    "\n",
    "io.write(blob.download_as_string())\n",
    "io.seek(0)\n",
    "pd.read_csv(io, header=None).head(3)"
   ]
  },
  {
   "attachments": {},
   "cell_type": "markdown",
   "metadata": {},
   "source": [
    "##### Downloading with URI"
   ]
  },
  {
   "cell_type": "code",
   "execution_count": 116,
   "metadata": {},
   "outputs": [
    {
     "data": {
      "text/html": [
       "<div>\n",
       "<style scoped>\n",
       "    .dataframe tbody tr th:only-of-type {\n",
       "        vertical-align: middle;\n",
       "    }\n",
       "\n",
       "    .dataframe tbody tr th {\n",
       "        vertical-align: top;\n",
       "    }\n",
       "\n",
       "    .dataframe thead th {\n",
       "        text-align: right;\n",
       "    }\n",
       "</style>\n",
       "<table border=\"1\" class=\"dataframe\">\n",
       "  <thead>\n",
       "    <tr style=\"text-align: right;\">\n",
       "      <th></th>\n",
       "      <th>0</th>\n",
       "      <th>1</th>\n",
       "      <th>2</th>\n",
       "      <th>3</th>\n",
       "    </tr>\n",
       "  </thead>\n",
       "  <tbody>\n",
       "    <tr>\n",
       "      <th>0</th>\n",
       "      <td>1</td>\n",
       "      <td>2013-07-25 00:00:00.0</td>\n",
       "      <td>11599</td>\n",
       "      <td>CLOSED</td>\n",
       "    </tr>\n",
       "    <tr>\n",
       "      <th>1</th>\n",
       "      <td>2</td>\n",
       "      <td>2013-07-25 00:00:00.0</td>\n",
       "      <td>256</td>\n",
       "      <td>PENDING_PAYMENT</td>\n",
       "    </tr>\n",
       "    <tr>\n",
       "      <th>2</th>\n",
       "      <td>3</td>\n",
       "      <td>2013-07-25 00:00:00.0</td>\n",
       "      <td>12111</td>\n",
       "      <td>COMPLETE</td>\n",
       "    </tr>\n",
       "  </tbody>\n",
       "</table>\n",
       "</div>"
      ],
      "text/plain": [
       "   0                      1      2                3\n",
       "0  1  2013-07-25 00:00:00.0  11599           CLOSED\n",
       "1  2  2013-07-25 00:00:00.0    256  PENDING_PAYMENT\n",
       "2  3  2013-07-25 00:00:00.0  12111         COMPLETE"
      ]
     },
     "execution_count": 116,
     "metadata": {},
     "output_type": "execute_result"
    }
   ],
   "source": [
    "io = BytesIO()\n",
    "gsclient.download_blob_to_file(\"gs://gcs-data-lake-1/data/retail_db/orders/part-00000\", io)\n",
    "io.seek(0)\n",
    "pd.read_csv(io, header=None).head(3)"
   ]
  },
  {
   "attachments": {},
   "cell_type": "markdown",
   "metadata": {},
   "source": [
    "# Project to upload multiple files to GCS using Python modules\n",
    "\n",
    "As part of this section, we will be using the modules like google-cloud-storage, OS and glob to enable us to transfer files from local to the object storage with help of Python API\n",
    " \n",
    "Design requirements - \n",
    "1. Get list of file names from local\n",
    "2. Build a blob for each file to upload\n",
    "3. use upload method to upload the related data\n",
    "4. use metadata for help with uploading the right info\n",
    "5. rename blobs with help of file names as reference\n"
   ]
  },
  {
   "cell_type": "code",
   "execution_count": 117,
   "metadata": {},
   "outputs": [
    {
     "name": "stdout",
     "output_type": "stream",
     "text": [
      "Creating gs://test-data-lake-1/...\n"
     ]
    }
   ],
   "source": [
    "!gsutil mb -b on -c standard --autoclass --placement us-east1,us-east4 gs://test-data-lake-1"
   ]
  },
  {
   "cell_type": "code",
   "execution_count": 118,
   "metadata": {},
   "outputs": [
    {
     "data": {
      "text/plain": [
       "[<Bucket: gcs-data-lake-1>, <Bucket: test-data-lake-1>]"
      ]
     },
     "execution_count": 118,
     "metadata": {},
     "output_type": "execute_result"
    }
   ],
   "source": [
    "list(gsclient.list_buckets())"
   ]
  },
  {
   "attachments": {},
   "cell_type": "markdown",
   "metadata": {},
   "source": [
    "At this point, now we have two buckets, with the one we recently created"
   ]
  },
  {
   "cell_type": "code",
   "execution_count": 164,
   "metadata": {},
   "outputs": [
    {
     "data": {
      "text/plain": [
       "['cards/smalldecks/deckofcards.txt', 'cards/smalldecks/deckofcards.tar.gz']"
      ]
     },
     "execution_count": 164,
     "metadata": {},
     "output_type": "execute_result"
    }
   ],
   "source": [
    "## Function to get list of all the files that we require\n",
    "\n",
    "from glob import glob\n",
    "from os import path\n",
    "\n",
    "def get_file_list(src_dir):\n",
    "    items = glob(f\"{src_dir}/**\", recursive=True)\n",
    "    for i in filter(lambda item: path.isfile(item), items): yield i\n",
    "\n",
    "create_blob_name = lambda x: x[x.index(\"/\", x.index(\"/\")+1)+1:]\n",
    "[create_blob_name(i) for i in get_file_list(\"../data/\")][:2]"
   ]
  },
  {
   "cell_type": "code",
   "execution_count": 166,
   "metadata": {},
   "outputs": [
    {
     "name": "stdout",
     "output_type": "stream",
     "text": [
      "Upload of file in progress - cards/smalldecks/deckofcards.txt\n",
      "Upload of file in progress - cards/smalldecks/deckofcards.tar.gz\n",
      "Upload of file in progress - cards/deckofcards.txt\n",
      "Upload of file in progress - cards/zippeddecks/zippeddeck.txt.gz\n",
      "Upload of file in progress - cards/zippeddecks/zippeddeck.tar\n",
      "Upload of file in progress - cards/largedeck.txt.gz\n",
      "Upload of file in progress - electionresults/ls2014.tsv\n",
      "Upload of file in progress - nyse/companylist_noheader.csv\n",
      "Upload of file in progress - nyse/nyse_data.tar.gz\n",
      "Upload of file in progress - nyse_all/nyse_data/NYSE_2004.txt.gz\n",
      "Upload of file in progress - nyse_all/nyse_data/NYSE_2013.txt.gz\n",
      "Upload of file in progress - nyse_all/nyse_data/NYSE_2011.txt.gz\n",
      "Upload of file in progress - nyse_all/nyse_data/NYSE_2009.txt.gz\n",
      "Upload of file in progress - nyse_all/nyse_data/NYSE_1998.txt.gz\n",
      "Upload of file in progress - nyse_all/nyse_data/NYSE_2003.txt.gz\n",
      "Upload of file in progress - nyse_all/nyse_data/NYSE_2014.txt.gz\n",
      "Upload of file in progress - nyse_all/nyse_data/NYSE_2005.txt.gz\n",
      "Upload of file in progress - nyse_all/nyse_data/NYSE_2012.txt.gz\n",
      "Upload of file in progress - nyse_all/nyse_data/NYSE_2006.txt.gz\n",
      "Upload of file in progress - nyse_all/nyse_data/NYSE_2015.txt.gz\n",
      "Upload of file in progress - nyse_all/nyse_data/NYSE_2007.txt.gz\n",
      "Upload of file in progress - nyse_all/nyse_data/NYSE_2016.txt.gz\n",
      "Upload of file in progress - nyse_all/nyse_data/NYSE_1997.txt.gz\n",
      "Upload of file in progress - nyse_all/nyse_data/NYSE_2001.txt.gz\n",
      "Upload of file in progress - nyse_all/nyse_data/NYSE_2008.txt.gz\n",
      "Upload of file in progress - nyse_all/nyse_data/NYSE_1999.txt.gz\n",
      "Upload of file in progress - nyse_all/nyse_data/NYSE_2000.txt.gz\n",
      "Upload of file in progress - nyse_all/nyse_data/NYSE_2010.txt.gz\n",
      "Upload of file in progress - nyse_all/nyse_data/NYSE_2017.txt.gz\n",
      "Upload of file in progress - nyse_all/nyse_data/NYSE_2002.txt.gz\n",
      "Upload of file in progress - nyse_all/nyse_stocks/companylist_noheader.csv\n",
      "Upload of file in progress - README.md\n",
      "Upload of file in progress - hr/hr_mysql.sql\n",
      "Upload of file in progress - retail_db_json/orders/part-r-00000-990f5773-9005-49ba-b670-631286032674\n",
      "Upload of file in progress - retail_db_json/order_items/part-r-00000-6b83977e-3f20-404b-9b5f-29376ab1419e\n",
      "Upload of file in progress - retail_db_json/categories/part-r-00000-ce1d8208-178d-48d3-bfb2-1a97d9c05094\n",
      "Upload of file in progress - retail_db_json/products/part-r-00000-158b7037-4a23-47e6-8cb3-8cbf878beff7\n",
      "Upload of file in progress - retail_db_json/customers/part-r-00000-70554560-527b-44f6-9e80-4e2031af5994\n",
      "Upload of file in progress - retail_db_json/departments/part-r-00000-3db7cfae-3ad2-4fc7-88ff-afe0ec709f49\n",
      "Upload of file in progress - retail_db_header/orders/part-00000\n",
      "Upload of file in progress - retail_db_header/order_items/part-00000\n",
      "Upload of file in progress - retail_db_header/categories/part-00000\n",
      "Upload of file in progress - retail_db_header/products/part-00000\n",
      "Upload of file in progress - retail_db_header/customers/part-00000\n",
      "Upload of file in progress - retail_db_header/departments/part-00000\n",
      "Upload of file in progress - lca/LCA_FY2013.csv.gz\n",
      "Upload of file in progress - lca/LCA_FY2011.csv.gz\n",
      "Upload of file in progress - lca/LCA_FY2010.csv.gz\n",
      "Upload of file in progress - lca/LCA_FY2012.csv.gz\n",
      "Upload of file in progress - retail_db/load_db_tables_pg.sql\n",
      "Upload of file in progress - retail_db/orders/part-00000\n",
      "Upload of file in progress - retail_db/order_items/part-00000\n",
      "Upload of file in progress - retail_db/schemas.json\n",
      "Upload of file in progress - retail_db/categories/part-00000\n",
      "Upload of file in progress - retail_db/create_db_tables_pg.sql\n",
      "Upload of file in progress - retail_db/products/part-00000\n",
      "Upload of file in progress - retail_db/customers/part-00000\n",
      "Upload of file in progress - retail_db/departments/part-00000\n",
      "Upload of file in progress - hr_db/locations/part-m-00000\n",
      "Upload of file in progress - hr_db/locations/part-m-00003\n",
      "Upload of file in progress - hr_db/locations/part-m-00002\n",
      "Upload of file in progress - hr_db/locations/part-m-00001\n",
      "Upload of file in progress - hr_db/job_history/part-m-00000\n",
      "Upload of file in progress - hr_db/job_history/part-m-00003\n",
      "Upload of file in progress - hr_db/jobs/part-m-00003\n",
      "Upload of file in progress - hr_db/jobs/part-m-00004\n",
      "Upload of file in progress - hr_db/jobs/part-m-00002\n",
      "Upload of file in progress - hr_db/jobs/part-m-00001\n",
      "Upload of file in progress - hr_db/employees/part-00000.csv\n",
      "Upload of file in progress - hr_db/regions/part-m-00000\n",
      "Upload of file in progress - hr_db/regions/part-m-00003\n",
      "Upload of file in progress - hr_db/regions/part-m-00002\n",
      "Upload of file in progress - hr_db/regions/part-m-00001\n",
      "Upload of file in progress - hr_db/countries/part-m-00000\n",
      "Upload of file in progress - hr_db/countries/part-m-00003\n",
      "Upload of file in progress - hr_db/countries/part-m-00002\n",
      "Upload of file in progress - hr_db/countries/part-m-00001\n",
      "Upload of file in progress - hr_db/departments/part-m-00000\n",
      "Upload of file in progress - hr_db/departments/part-m-00003\n",
      "Upload of file in progress - hr_db/departments/part-m-00002\n",
      "Upload of file in progress - hr_db/departments/part-m-00001\n",
      "Upload of file in progress - hr_db/emp_details_view/part-m-00000\n"
     ]
    }
   ],
   "source": [
    "### Let's upload these files to bucket we created\n",
    "\n",
    "bucket1 = gsclient.get_bucket(bucket_or_name=\"test-data-lake-1\")\n",
    "for file_to_upload in get_file_list(\"../data/\"):\n",
    "    # Get the file object\n",
    "    blob_name=create_blob_name(file_to_upload)\n",
    "    blob = bucket1.blob(blob_name=blob_name)\n",
    "    with open(file_to_upload, \"rb\") as f:\n",
    "        print(f\"Upload of file in progress - {blob_name}\")\n",
    "        blob.upload_from_file(f)"
   ]
  },
  {
   "cell_type": "code",
   "execution_count": 167,
   "metadata": {},
   "outputs": [
    {
     "data": {
      "text/plain": [
       "82"
      ]
     },
     "execution_count": 167,
     "metadata": {},
     "output_type": "execute_result"
    }
   ],
   "source": [
    "len(list(bucket1.list_blobs()))"
   ]
  },
  {
   "cell_type": "code",
   "execution_count": 169,
   "metadata": {},
   "outputs": [
    {
     "data": {
      "text/plain": [
       "[<Blob: test-data-lake-1, retail_db/orders/part-00000, 1676239097434223>]"
      ]
     },
     "execution_count": 169,
     "metadata": {},
     "output_type": "execute_result"
    }
   ],
   "source": [
    "# Another way of listing the files of interest\n",
    "\n",
    "list(gsclient.list_blobs(bucket_or_name=\"test-data-lake-1\", prefix=\"retail_db/orders\"))"
   ]
  },
  {
   "attachments": {},
   "cell_type": "markdown",
   "metadata": {},
   "source": [
    "# Overview of using pandas to process the files in GCS"
   ]
  },
  {
   "cell_type": "code",
   "execution_count": null,
   "metadata": {},
   "outputs": [],
   "source": []
  },
  {
   "cell_type": "code",
   "execution_count": null,
   "metadata": {},
   "outputs": [],
   "source": []
  },
  {
   "cell_type": "code",
   "execution_count": null,
   "metadata": {},
   "outputs": [],
   "source": []
  },
  {
   "cell_type": "markdown",
   "metadata": {},
   "source": []
  }
 ],
 "metadata": {
  "kernelspec": {
   "display_name": "gcp-venv",
   "language": "python",
   "name": "python3"
  },
  "language_info": {
   "codemirror_mode": {
    "name": "ipython",
    "version": 3
   },
   "file_extension": ".py",
   "mimetype": "text/x-python",
   "name": "python",
   "nbconvert_exporter": "python",
   "pygments_lexer": "ipython3",
   "version": "3.8.10"
  },
  "orig_nbformat": 4,
  "vscode": {
   "interpreter": {
    "hash": "94db1dcbbacddcbe7c309f195a130791f4943678ca16027e61a31b19b569e969"
   }
  }
 },
 "nbformat": 4,
 "nbformat_minor": 2
}
